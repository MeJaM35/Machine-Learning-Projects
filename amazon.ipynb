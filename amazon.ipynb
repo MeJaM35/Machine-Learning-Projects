{
  "nbformat": 4,
  "nbformat_minor": 0,
  "metadata": {
    "colab": {
      "name": "Untitled9.ipynb",
      "provenance": [],
      "authorship_tag": "ABX9TyOYv4HsT+94NyimC+aoCwEf",
      "include_colab_link": true
    },
    "kernelspec": {
      "name": "python3",
      "display_name": "Python 3"
    },
    "language_info": {
      "name": "python"
    }
  },
  "cells": [
    {
      "cell_type": "markdown",
      "metadata": {
        "id": "view-in-github",
        "colab_type": "text"
      },
      "source": [
        "<a href=\"https://colab.research.google.com/github/MeJaM35/Machine-Learning-Projects/blob/master/amazon.ipynb\" target=\"_parent\"><img src=\"https://colab.research.google.com/assets/colab-badge.svg\" alt=\"Open In Colab\"/></a>"
      ]
    },
    {
      "cell_type": "code",
      "metadata": {
        "id": "9Kw1VcHobXS7"
      },
      "source": [
        "from requests_html import HTMLSession\n",
        "from bs4 import BeautifulSoup\n",
        "\n",
        "\n",
        "s = HTMLSession()\n",
        "\n",
        "url = 'https://www.amazon.co.uk/s?k=dslr+camera&i=black-friday&ref=nb_sb_noss'\n",
        "\n",
        "def getdata(url):\n",
        "    r = s.get(url)\n",
        "    r.html.render(sleep=1)\n",
        "    soup = BeautifulSoup(r.html.html, 'html.parser')\n",
        "    return soup\n",
        "\n",
        "def getnextpage(soup):\n",
        "    # this will return the next page URL\n",
        "    pages = soup.find('ul', {'class': 'a-pagination'})\n",
        "    if not pages.find('li', {'class': 'a-disabled a-last'}):\n",
        "        url = 'https://www.amazon.co.uk' + str(pages.find('li', {'class': 'a-last'}).find('a')['href'])\n",
        "        return url\n",
        "    else:\n",
        "        return\n",
        "\n",
        "\n",
        "while True:\n",
        "    data = getdata(url)\n",
        "    url = getnextpage(data)\n",
        "    if not url:\n",
        "        break\n",
        "    print(url)"
      ],
      "execution_count": null,
      "outputs": []
    }
  ]
}